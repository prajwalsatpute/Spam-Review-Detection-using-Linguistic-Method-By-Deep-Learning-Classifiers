{
 "cells": [
  {
   "cell_type": "code",
   "execution_count": 2,
   "id": "be5ce724",
   "metadata": {},
   "outputs": [
    {
     "name": "stdout",
     "output_type": "stream",
     "text": [
      "       reviewerID        asin           reviewerName helpful  \\\n",
      "0  A1YS9MDZP93857  0006428320            John Taylor  [0, 0]   \n",
      "1  A3TS466QBAWB9D  0014072149          Silver Pencil  [0, 0]   \n",
      "2  A3BUDYITWUSIS7  0041291905  joyce gabriel cornett  [0, 0]   \n",
      "3  A19K10Z0D2NTZK  0041913574            TexasCowboy  [0, 0]   \n",
      "4  A14X336IB4JD89  0201891859                 dfjm53  [0, 1]   \n",
      "\n",
      "                                          reviewText  overall  \\\n",
      "0  The portfolio is fine except for the fact that...      3.0   \n",
      "1  If you are a serious violin student on a budge...      5.0   \n",
      "2  This is and excellent edition and perfectly tr...      5.0   \n",
      "3  Perfect for someone who is an opera fan or a w...      5.0   \n",
      "4  How many Nocturnes does it contain? All of the...      1.0   \n",
      "\n",
      "                            summary  unixReviewTime   reviewTime  \n",
      "0                     Parts missing      1394496000  03 11, 2014  \n",
      "1  Perform it with a friend, today!      1370476800   06 6, 2013  \n",
      "2           Vivalldi's Four Seasons      1381708800  10 14, 2013  \n",
      "3   Full score: voice and orchestra      1285200000  09 23, 2010  \n",
      "4      Unable to determine contents      1350432000  10 17, 2012  \n"
     ]
    }
   ],
   "source": [
    "from __future__ import division\n",
    "import pandas as pd\n",
    "import gzip\n",
    "\n",
    "def parse(path):\n",
    "    g = gzip.open(path, 'rb')\n",
    "    for l in g:\n",
    "        yield eval(l)\n",
    "\n",
    "def getDF(path):\n",
    "    i = 0\n",
    "    df = {}\n",
    "    for d in parse(path):\n",
    "        df[i] = d\n",
    "        i += 1\n",
    "    return pd.DataFrame.from_dict(df, orient='index')\n",
    "\n",
    "df = getDF('reviews_Musical_Instruments.json.gz')\n",
    "print(df.head(5))\n",
    "df=df.head(50000)\n"
   ]
  },
  {
   "cell_type": "code",
   "execution_count": 3,
   "id": "e211fae9",
   "metadata": {},
   "outputs": [],
   "source": [
    "df['reviewText']=df['reviewText'].fillna(\"\")\n",
    "df['cleaned_review'] = df.reviewText.apply(lambda x: ' '.join([word for word in x.split() if not word.startswith('@')]))#remove @ from text"
   ]
  },
  {
   "cell_type": "code",
   "execution_count": 4,
   "id": "d062bcf4",
   "metadata": {},
   "outputs": [
    {
     "data": {
      "text/html": [
       "<div>\n",
       "<style scoped>\n",
       "    .dataframe tbody tr th:only-of-type {\n",
       "        vertical-align: middle;\n",
       "    }\n",
       "\n",
       "    .dataframe tbody tr th {\n",
       "        vertical-align: top;\n",
       "    }\n",
       "\n",
       "    .dataframe thead th {\n",
       "        text-align: right;\n",
       "    }\n",
       "</style>\n",
       "<table border=\"1\" class=\"dataframe\">\n",
       "  <thead>\n",
       "    <tr style=\"text-align: right;\">\n",
       "      <th></th>\n",
       "      <th>reviewerID</th>\n",
       "      <th>asin</th>\n",
       "      <th>reviewerName</th>\n",
       "      <th>helpful</th>\n",
       "      <th>reviewText</th>\n",
       "      <th>overall</th>\n",
       "      <th>summary</th>\n",
       "      <th>unixReviewTime</th>\n",
       "      <th>reviewTime</th>\n",
       "      <th>cleaned_review</th>\n",
       "    </tr>\n",
       "  </thead>\n",
       "  <tbody>\n",
       "    <tr>\n",
       "      <th>0</th>\n",
       "      <td>A1YS9MDZP93857</td>\n",
       "      <td>0006428320</td>\n",
       "      <td>John Taylor</td>\n",
       "      <td>[0, 0]</td>\n",
       "      <td>The portfolio is fine except for the fact that...</td>\n",
       "      <td>3.0</td>\n",
       "      <td>Parts missing</td>\n",
       "      <td>1394496000</td>\n",
       "      <td>03 11, 2014</td>\n",
       "      <td>The portfolio is fine except for the fact that...</td>\n",
       "    </tr>\n",
       "    <tr>\n",
       "      <th>1</th>\n",
       "      <td>A3TS466QBAWB9D</td>\n",
       "      <td>0014072149</td>\n",
       "      <td>Silver Pencil</td>\n",
       "      <td>[0, 0]</td>\n",
       "      <td>If you are a serious violin student on a budge...</td>\n",
       "      <td>5.0</td>\n",
       "      <td>Perform it with a friend, today!</td>\n",
       "      <td>1370476800</td>\n",
       "      <td>06 6, 2013</td>\n",
       "      <td>If you are a serious violin student on a budge...</td>\n",
       "    </tr>\n",
       "    <tr>\n",
       "      <th>2</th>\n",
       "      <td>A3BUDYITWUSIS7</td>\n",
       "      <td>0041291905</td>\n",
       "      <td>joyce gabriel cornett</td>\n",
       "      <td>[0, 0]</td>\n",
       "      <td>This is and excellent edition and perfectly tr...</td>\n",
       "      <td>5.0</td>\n",
       "      <td>Vivalldi's Four Seasons</td>\n",
       "      <td>1381708800</td>\n",
       "      <td>10 14, 2013</td>\n",
       "      <td>This is and excellent edition and perfectly tr...</td>\n",
       "    </tr>\n",
       "    <tr>\n",
       "      <th>3</th>\n",
       "      <td>A19K10Z0D2NTZK</td>\n",
       "      <td>0041913574</td>\n",
       "      <td>TexasCowboy</td>\n",
       "      <td>[0, 0]</td>\n",
       "      <td>Perfect for someone who is an opera fan or a w...</td>\n",
       "      <td>5.0</td>\n",
       "      <td>Full score: voice and orchestra</td>\n",
       "      <td>1285200000</td>\n",
       "      <td>09 23, 2010</td>\n",
       "      <td>Perfect for someone who is an opera fan or a w...</td>\n",
       "    </tr>\n",
       "    <tr>\n",
       "      <th>4</th>\n",
       "      <td>A14X336IB4JD89</td>\n",
       "      <td>0201891859</td>\n",
       "      <td>dfjm53</td>\n",
       "      <td>[0, 1]</td>\n",
       "      <td>How many Nocturnes does it contain? All of the...</td>\n",
       "      <td>1.0</td>\n",
       "      <td>Unable to determine contents</td>\n",
       "      <td>1350432000</td>\n",
       "      <td>10 17, 2012</td>\n",
       "      <td>How many Nocturnes does it contain? All of the...</td>\n",
       "    </tr>\n",
       "  </tbody>\n",
       "</table>\n",
       "</div>"
      ],
      "text/plain": [
       "       reviewerID        asin           reviewerName helpful  \\\n",
       "0  A1YS9MDZP93857  0006428320            John Taylor  [0, 0]   \n",
       "1  A3TS466QBAWB9D  0014072149          Silver Pencil  [0, 0]   \n",
       "2  A3BUDYITWUSIS7  0041291905  joyce gabriel cornett  [0, 0]   \n",
       "3  A19K10Z0D2NTZK  0041913574            TexasCowboy  [0, 0]   \n",
       "4  A14X336IB4JD89  0201891859                 dfjm53  [0, 1]   \n",
       "\n",
       "                                          reviewText  overall  \\\n",
       "0  The portfolio is fine except for the fact that...      3.0   \n",
       "1  If you are a serious violin student on a budge...      5.0   \n",
       "2  This is and excellent edition and perfectly tr...      5.0   \n",
       "3  Perfect for someone who is an opera fan or a w...      5.0   \n",
       "4  How many Nocturnes does it contain? All of the...      1.0   \n",
       "\n",
       "                            summary  unixReviewTime   reviewTime  \\\n",
       "0                     Parts missing      1394496000  03 11, 2014   \n",
       "1  Perform it with a friend, today!      1370476800   06 6, 2013   \n",
       "2           Vivalldi's Four Seasons      1381708800  10 14, 2013   \n",
       "3   Full score: voice and orchestra      1285200000  09 23, 2010   \n",
       "4      Unable to determine contents      1350432000  10 17, 2012   \n",
       "\n",
       "                                      cleaned_review  \n",
       "0  The portfolio is fine except for the fact that...  \n",
       "1  If you are a serious violin student on a budge...  \n",
       "2  This is and excellent edition and perfectly tr...  \n",
       "3  Perfect for someone who is an opera fan or a w...  \n",
       "4  How many Nocturnes does it contain? All of the...  "
      ]
     },
     "execution_count": 4,
     "metadata": {},
     "output_type": "execute_result"
    }
   ],
   "source": [
    "df.head()"
   ]
  },
  {
   "cell_type": "code",
   "execution_count": 5,
   "id": "79dc0fa6",
   "metadata": {},
   "outputs": [],
   "source": [
    "def preprocess_text(sen):#remove all symbolic data \n",
    "    sentence = re.sub('(https?:\\/\\/)?([\\da-z\\.-]+)\\.([a-z\\.]{2,6})([\\/\\w \\.-]*)',' ',sen) # Removing html tags\n",
    "    sentence = re.sub('[^a-zA-Z]', ' ', sentence) # Remove punctuations and numbers\n",
    "    sentence = re.sub(r\"\\s+[a-zA-Z]\\s+\", ' ', sentence) # Single character removal\n",
    "    sentence = re.sub(r'\\s+', ' ', sentence) # Removing multiple spaces\n",
    "    sentence = sentence.replace(\"ain't\", \"am not\").replace(\"aren't\", \"are not\")\n",
    "    sentence = ' '.join(text.lower() for text in sentence.split(' ')) # Lowering cases\n",
    "    sw = stopwords.words('english')\n",
    "    sentence = ' '.join(text for text in sentence.split() if text not in sw) #removing stopwords\n",
    "    #sentence = ' '.join(text.lemmatize() for text in sentence.split()) #lemmatization\n",
    "    return sentence"
   ]
  },
  {
   "cell_type": "code",
   "execution_count": 6,
   "id": "9a651f3f",
   "metadata": {},
   "outputs": [],
   "source": [
    "import re\n",
    "import numpy as np\n",
    "import pandas as pd \n",
    "import nltk\n",
    "from nltk.stem import PorterStemmer\n",
    "from sklearn.feature_extraction.text import CountVectorizer\n",
    "from sklearn.feature_extraction.text import TfidfTransformer\n",
    "from sklearn.model_selection import train_test_split\n",
    "from sklearn.metrics import classification_report,confusion_matrix\n",
    "import seaborn as sns\n",
    "from nltk.corpus import stopwords\n",
    "#import plotly.graph_objs as go\n",
    "#from plotly import tools\n",
    "import random\n",
    "from sklearn.metrics import f1_score, roc_auc_score\n",
    "from sklearn.pipeline import make_pipeline\n",
    "df['cleaned_Text'] = df.reviewText.apply(preprocess_text)"
   ]
  },
  {
   "cell_type": "code",
   "execution_count": 7,
   "id": "9be102a4",
   "metadata": {},
   "outputs": [],
   "source": [
    "df['cleaned_Text'] = df['cleaned_Text'].apply(nltk.word_tokenize)#tokenise text"
   ]
  },
  {
   "cell_type": "code",
   "execution_count": 8,
   "id": "433ef9dd",
   "metadata": {},
   "outputs": [],
   "source": [
    "stemmer = PorterStemmer()\n",
    "df['cleaned_Text'] = df['cleaned_Text'].apply(lambda x: [stemmer.stem(y) for y in x])#apply stemmer"
   ]
  },
  {
   "cell_type": "code",
   "execution_count": 9,
   "id": "336ef316",
   "metadata": {},
   "outputs": [
    {
     "data": {
      "text/plain": [
       "0        [portfolio, fine, except, fact, last, movement...\n",
       "1        [seriou, violin, student, budget, edit, piano,...\n",
       "2        [excel, edit, perfectli, true, orchestr, versi...\n",
       "3        [perfect, someon, opera, fan, work, musician, ...\n",
       "4        [mani, nocturn, contain, unabl, determnin, con...\n",
       "                               ...                        \n",
       "49995    [bought, christma, present, pick, fine, box, s...\n",
       "49996                                              [great]\n",
       "49997    [kinda, hard, get, bad, pick, work, fine, said...\n",
       "49998    [fender, heavi, much, els, say, good, price, s...\n",
       "49999    [attract, price, nice, pick, nice, feel, nice,...\n",
       "Name: cleaned_Text, Length: 50000, dtype: object"
      ]
     },
     "execution_count": 9,
     "metadata": {},
     "output_type": "execute_result"
    }
   ],
   "source": [
    "df['cleaned_Text']"
   ]
  },
  {
   "cell_type": "code",
   "execution_count": 10,
   "id": "602e9027",
   "metadata": {},
   "outputs": [],
   "source": [
    "df['cleaned_Text'] = df['cleaned_Text'].apply(lambda x: ' '.join(x))#apply count vectoriser\n",
    "\n",
    "df['cleaned_Text']\n",
    "count_vect = CountVectorizer()\n",
    "counts = count_vect.fit_transform(df['cleaned_Text']);"
   ]
  },
  {
   "cell_type": "code",
   "execution_count": 11,
   "id": "0d9fe7d5",
   "metadata": {},
   "outputs": [],
   "source": [
    "transformer = TfidfTransformer().fit(counts)\n",
    "counts = transformer.fit_transform(counts)"
   ]
  },
  {
   "cell_type": "code",
   "execution_count": 12,
   "id": "421db3ed",
   "metadata": {},
   "outputs": [
    {
     "name": "stdout",
     "output_type": "stream",
     "text": [
      "['.ipynb_checkpoints', 'algo - B.ipynb', 'archive.zip', 'bilstm.ipynb', 'cnn.ipynb', 'GFG1.csv', 'glove.6B.100d.txt', 'mlp.ipynb', 'reviews_Musical_Instruments.json', 'reviews_Musical_Instruments.json.gz', 'Untitled - Copy.ipynb', 'Untitled - Copy_.ipynb']\n"
     ]
    }
   ],
   "source": [
    "import numpy as np\n",
    "import pandas as pd\n",
    "import matplotlib.pyplot as plt\n",
    "import seaborn as sns\n",
    "\n",
    "%matplotlib inline\n",
    "\n",
    "import os\n",
    "print(os.listdir())\n",
    "\n",
    "import warnings\n",
    "warnings.filterwarnings('ignore')\n",
    "dataset = pd.read_csv(\"GFG1.csv\")\n",
    "dataset=dataset.head(50000)\n",
    "Y=dataset[\"label\"]\n"
   ]
  },
  {
   "cell_type": "code",
   "execution_count": 13,
   "id": "4298ac14",
   "metadata": {},
   "outputs": [],
   "source": [
    "#X = df['cleaned_Text']\n"
   ]
  },
  {
   "cell_type": "code",
   "execution_count": 14,
   "id": "d172c733",
   "metadata": {},
   "outputs": [],
   "source": [
    "from sklearn.naive_bayes import MultinomialNB, GaussianNB\n",
    "from sklearn.model_selection import train_test_split\n",
    "from sklearn import preprocessing\n",
    " \n",
    "# label_encoder object knows how to understand word labels.\n",
    "label_encoder = preprocessing.LabelEncoder()\n",
    " \n",
    "# Encode labels in column 'species'.\n",
    "#Y= label_encoder.fit_transform(Y)\n",
    "\n",
    "X_train, X_test, y_train, y_test = train_test_split(counts, Y, test_size=0.1,random_state=500) "
   ]
  },
  {
   "cell_type": "code",
   "execution_count": 15,
   "id": "e1d47b4f",
   "metadata": {},
   "outputs": [
    {
     "name": "stdout",
     "output_type": "stream",
     "text": [
      "Accuracy: 0.9188\n",
      "Precision: 0.9474989665150889\n",
      "Recall: 0.9679054054054054\n"
     ]
    }
   ],
   "source": [
    "\n",
    "\n",
    "from sklearn.neural_network import MLPClassifier\n",
    "\n",
    "clf = MLPClassifier(random_state=1, max_iter=300)\n",
    "clf.fit(X_train, y_train)\n",
    "#x1 = cv.transform(X_test)\n",
    "yp=clf.predict(X_test)\n",
    "from sklearn import metrics\n",
    "\n",
    "# Model Accuracy: how often is the classifier correct?\n",
    "b=float(metrics.accuracy_score(y_test, yp))\n",
    "print(\"Accuracy:\",metrics.accuracy_score(y_test, yp))\n",
    "print(\"Precision:\",metrics.precision_score(y_test, yp))\n",
    "\n",
    "# Model Recall: what percentage of positive tuples are labelled as such?\n",
    "print(\"Recall:\",metrics.recall_score(y_test, yp))"
   ]
  },
  {
   "cell_type": "code",
   "execution_count": 18,
   "id": "32073b42",
   "metadata": {},
   "outputs": [
    {
     "name": "stdout",
     "output_type": "stream",
     "text": [
      "              precision    recall  f1-score   support\n",
      "\n",
      "           0       0.06      0.04      0.05       264\n",
      "           1       0.95      0.97      0.96      4736\n",
      "\n",
      "    accuracy                           0.92      5000\n",
      "   macro avg       0.50      0.50      0.50      5000\n",
      "weighted avg       0.90      0.92      0.91      5000\n",
      "\n"
     ]
    }
   ],
   "source": [
    "from sklearn.metrics import classification_report\n",
    "print(classification_report(y_test, yp))"
   ]
  },
  {
   "cell_type": "code",
   "execution_count": null,
   "id": "b048668f",
   "metadata": {},
   "outputs": [],
   "source": []
  },
  {
   "cell_type": "code",
   "execution_count": null,
   "id": "a1006fd9",
   "metadata": {},
   "outputs": [],
   "source": []
  }
 ],
 "metadata": {
  "kernelspec": {
   "display_name": "Python 3",
   "language": "python",
   "name": "python3"
  },
  "language_info": {
   "codemirror_mode": {
    "name": "ipython",
    "version": 3
   },
   "file_extension": ".py",
   "mimetype": "text/x-python",
   "name": "python",
   "nbconvert_exporter": "python",
   "pygments_lexer": "ipython3",
   "version": "3.6.8"
  }
 },
 "nbformat": 4,
 "nbformat_minor": 5
}
